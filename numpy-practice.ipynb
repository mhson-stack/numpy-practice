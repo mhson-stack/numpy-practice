{
 "cells": [
  {
   "cell_type": "markdown",
   "metadata": {},
   "source": [
    "# Tip and Tricks for NUMPY\n"
   ]
  },
  {
   "cell_type": "code",
   "execution_count": 62,
   "metadata": {},
   "outputs": [
    {
     "name": "stdout",
     "output_type": "stream",
     "text": [
      "Numpy Version : 1.23.2\n"
     ]
    }
   ],
   "source": [
    "import numpy as np\n",
    "from time import perf_counter_ns\n",
    "print(f\"Numpy Version : {np.__version__}\")"
   ]
  },
  {
   "cell_type": "markdown",
   "metadata": {},
   "source": [
    "## 1. np datatype"
   ]
  },
  {
   "cell_type": "code",
   "execution_count": 9,
   "metadata": {},
   "outputs": [
    {
     "name": "stdout",
     "output_type": "stream",
     "text": [
      "array: [[1 2 3]\n",
      " [2 3 4]]\n",
      "Shape of array: (2, 3)\n",
      "Data type of array: int64\n",
      "Dimension of array: 2\n",
      "Size of array: 6\n",
      "Itemsize of array: 8\n"
     ]
    }
   ],
   "source": [
    "def get_info(a):\n",
    "    print(f\"array: {a}\")\n",
    "    print(f\"Shape of array: {a.shape}\")\n",
    "    print(f\"Data type of array: {a.dtype}\")\n",
    "    print(f\"Dimension of array: {a.ndim}\")\n",
    "    print(f\"Size of array: {a.size}\")\n",
    "    print(f\"Itemsize of array: {a.itemsize}\")\n",
    "\n",
    "a = np.array([1, 2 ,3])\n",
    "b = np.array([[1,2,3], [2,3,4]])\n",
    "get_info(b)\n"
   ]
  },
  {
   "cell_type": "code",
   "execution_count": 10,
   "metadata": {},
   "outputs": [],
   "source": [
    "#np arrays are muttable"
   ]
  },
  {
   "cell_type": "markdown",
   "metadata": {},
   "source": [
    "## Difference between python list and numpy array\n"
   ]
  },
  {
   "cell_type": "code",
   "execution_count": 169,
   "metadata": {},
   "outputs": [
    {
     "name": "stdout",
     "output_type": "stream",
     "text": [
      "[1, 2, 3]\n",
      "[1 2 3]\n"
     ]
    }
   ],
   "source": [
    "python_list = [1,2,3]\n",
    "np_array = np.array([1, 2, 3])\n",
    "print(python_list)\n",
    "print(np_array)"
   ]
  },
  {
   "cell_type": "markdown",
   "metadata": {},
   "source": [
    "### Appending"
   ]
  },
  {
   "cell_type": "code",
   "execution_count": 177,
   "metadata": {},
   "outputs": [
    {
     "ename": "ValueError",
     "evalue": "all the input arrays must have same number of dimensions, but the array at index 0 has 1 dimension(s) and the array at index 1 has 2 dimension(s)",
     "output_type": "error",
     "traceback": [
      "\u001b[0;31m---------------------------------------------------------------------------\u001b[0m",
      "\u001b[0;31mValueError\u001b[0m                                Traceback (most recent call last)",
      "\u001b[1;32m/Users/prozapple/무현/Git/numpy-practice/numpy-practice.ipynb Cell 9\u001b[0m in \u001b[0;36m<cell line: 12>\u001b[0;34m()\u001b[0m\n\u001b[1;32m     <a href='vscode-notebook-cell:/Users/prozapple/%EB%AC%B4%ED%98%84/Git/numpy-practice/numpy-practice.ipynb#X13sZmlsZQ%3D%3D?line=9'>10</a>\u001b[0m new_np_array \u001b[39m=\u001b[39m np\u001b[39m.\u001b[39mconcatenate((np_array, np_array), axis \u001b[39m=\u001b[39m \u001b[39m0\u001b[39m)\n\u001b[1;32m     <a href='vscode-notebook-cell:/Users/prozapple/%EB%AC%B4%ED%98%84/Git/numpy-practice/numpy-practice.ipynb#X13sZmlsZQ%3D%3D?line=10'>11</a>\u001b[0m \u001b[39m# hstack\u001b[39;00m\n\u001b[0;32m---> <a href='vscode-notebook-cell:/Users/prozapple/%EB%AC%B4%ED%98%84/Git/numpy-practice/numpy-practice.ipynb#X13sZmlsZQ%3D%3D?line=11'>12</a>\u001b[0m new_np_array \u001b[39m=\u001b[39m np\u001b[39m.\u001b[39;49mhstack((np\u001b[39m.\u001b[39;49marray([\u001b[39m1\u001b[39;49m, \u001b[39m2\u001b[39;49m, \u001b[39m3\u001b[39;49m, \u001b[39m4\u001b[39;49m]), np\u001b[39m.\u001b[39;49marray([[\u001b[39m5\u001b[39;49m, \u001b[39m6\u001b[39;49m, \u001b[39m7\u001b[39;49m, ], [\u001b[39m1\u001b[39;49m, \u001b[39m2\u001b[39;49m, \u001b[39m3\u001b[39;49m]])))\n\u001b[1;32m     <a href='vscode-notebook-cell:/Users/prozapple/%EB%AC%B4%ED%98%84/Git/numpy-practice/numpy-practice.ipynb#X13sZmlsZQ%3D%3D?line=12'>13</a>\u001b[0m new_np_array \u001b[39m=\u001b[39m np\u001b[39m.\u001b[39mvstack((np\u001b[39m.\u001b[39marray([\u001b[39m1\u001b[39m, \u001b[39m2\u001b[39m, \u001b[39m3\u001b[39m, \u001b[39m4\u001b[39m]), np\u001b[39m.\u001b[39marray([\u001b[39m1\u001b[39m, \u001b[39m2\u001b[39m, \u001b[39m3\u001b[39m, \u001b[39m4\u001b[39m])))\n\u001b[1;32m     <a href='vscode-notebook-cell:/Users/prozapple/%EB%AC%B4%ED%98%84/Git/numpy-practice/numpy-practice.ipynb#X13sZmlsZQ%3D%3D?line=13'>14</a>\u001b[0m \u001b[39mprint\u001b[39m(new_np_array)\n",
      "File \u001b[0;32m<__array_function__ internals>:180\u001b[0m, in \u001b[0;36mhstack\u001b[0;34m(*args, **kwargs)\u001b[0m\n",
      "File \u001b[0;32m~/.pyenv/versions/anaconda3-2021.11/envs/section3/lib/python3.8/site-packages/numpy/core/shape_base.py:343\u001b[0m, in \u001b[0;36mhstack\u001b[0;34m(tup)\u001b[0m\n\u001b[1;32m    341\u001b[0m \u001b[39m# As a special case, dimension 0 of 1-dimensional arrays is \"horizontal\"\u001b[39;00m\n\u001b[1;32m    342\u001b[0m \u001b[39mif\u001b[39;00m arrs \u001b[39mand\u001b[39;00m arrs[\u001b[39m0\u001b[39m]\u001b[39m.\u001b[39mndim \u001b[39m==\u001b[39m \u001b[39m1\u001b[39m:\n\u001b[0;32m--> 343\u001b[0m     \u001b[39mreturn\u001b[39;00m _nx\u001b[39m.\u001b[39;49mconcatenate(arrs, \u001b[39m0\u001b[39;49m)\n\u001b[1;32m    344\u001b[0m \u001b[39melse\u001b[39;00m:\n\u001b[1;32m    345\u001b[0m     \u001b[39mreturn\u001b[39;00m _nx\u001b[39m.\u001b[39mconcatenate(arrs, \u001b[39m1\u001b[39m)\n",
      "File \u001b[0;32m<__array_function__ internals>:180\u001b[0m, in \u001b[0;36mconcatenate\u001b[0;34m(*args, **kwargs)\u001b[0m\n",
      "\u001b[0;31mValueError\u001b[0m: all the input arrays must have same number of dimensions, but the array at index 0 has 1 dimension(s) and the array at index 1 has 2 dimension(s)"
     ]
    }
   ],
   "source": [
    "# python_list = [1, 2, 3]\n",
    "# np_array = np.array([1, 2, 3])\n",
    "#\n",
    "# Python list appending\n",
    "python_list.append(4)  # Mutates the actual python_list\n",
    "\n",
    "# np array list appending \n",
    "new_np_array = np.append(np_array, np.array([4]))  # Does not mutate the actual np_array\n",
    "# Concatenate\n",
    "new_np_array = np.concatenate((np_array, np_array), axis = 0)\n",
    "# hstack\n",
    "new_np_array = np.hstack((np.array([1, 2, 3, 4]), np.array([5, 6, 7, ])))  # Dimensions must match\n",
    "new_np_array = np.vstack((np.array([1, 2, 3, 4]), np.array([1, 2, 3, 4])))\n",
    "print(new_np_array)\n"
   ]
  },
  {
   "cell_type": "markdown",
   "metadata": {},
   "source": [
    "### Arithimetic Operation"
   ]
  },
  {
   "cell_type": "code",
   "execution_count": 36,
   "metadata": {},
   "outputs": [
    {
     "data": {
      "text/plain": [
       "array([20, 24, 28,  8])"
      ]
     },
     "execution_count": 36,
     "metadata": {},
     "output_type": "execute_result"
    }
   ],
   "source": [
    "# python_list = [1, 2, 3, 4]\n",
    "# np_array = np.array([1, 2, 3, 4])\n",
    "#\n",
    "# Python List\n",
    "\n",
    "python_list = python_list + [5]  # result [1, 2, 3, 4]\n",
    "python_list += [6]  # result [1, 2, 3, 4, 5]\n",
    "python_list *= 2  # result [1, 2, 3, 4, 5, 1, 2, 3, 4, 5]\n",
    "\n",
    "\n",
    "# arithimetic operation of np array\n",
    "np_array + np.array([5]) # result [6, 7, 8]\n",
    "np_array * 2  # result [2, 4, 5]"
   ]
  },
  {
   "cell_type": "markdown",
   "metadata": {},
   "source": [
    "## Dot Product"
   ]
  },
  {
   "cell_type": "code",
   "execution_count": 44,
   "metadata": {},
   "outputs": [],
   "source": [
    "l1 = [1, 2, 3]\n",
    "l2 = [4, 5, 6]\n",
    "a1 = np.array(l1)\n",
    "a2 = np.array(l2)"
   ]
  },
  {
   "cell_type": "code",
   "execution_count": 89,
   "metadata": {},
   "outputs": [
    {
     "name": "stdout",
     "output_type": "stream",
     "text": [
      "56,836\n",
      "80,542\n",
      "91,737\n",
      "55,045\n",
      "48,522\n"
     ]
    }
   ],
   "source": [
    "# Python list dot product\n",
    "def dot_prod(l1, l2):\n",
    "    sum = 0\n",
    "    for x, y in zip(l1, l2):\n",
    "        sum += x * y\n",
    "    return sum\n",
    "t0_start = perf_counter_ns()\n",
    "dot_prod(l1, l2)\n",
    "t0_end = perf_counter_ns()\n",
    "\n",
    "# np array dot product\n",
    "# Method 1 \n",
    "t1_start = perf_counter_ns()\n",
    "dot = np.dot(a1, a2)\n",
    "t1_end = perf_counter_ns()\n",
    "\n",
    "# Method 2 \n",
    "t2_start = perf_counter_ns()\n",
    "dot = np.sum(a1 * a2)\n",
    "t2_end = perf_counter_ns()\n",
    "\n",
    "# Method 3 \n",
    "t3_start = perf_counter_ns()\n",
    "dot = (a1 * a2).sum()\n",
    "t3_end = perf_counter_ns()\n",
    "\n",
    "# Method 4\n",
    "t4_start = perf_counter_ns()\n",
    "dot = a1 @ a2\n",
    "t4_end = perf_counter_ns()\n",
    "\n",
    "print(f\"{t0_end - t0_start:,}\")\n",
    "print(f\"{t1_end - t1_start:,}\")\n",
    "print(f\"{t2_end - t2_start:,}\")\n",
    "print(f\"{t3_end - t3_start:,}\")\n",
    "print(f\"{t4_end - t4_start:,}\")\n",
    "\n"
   ]
  },
  {
   "cell_type": "markdown",
   "metadata": {},
   "source": [
    "## N dimension array"
   ]
  },
  {
   "cell_type": "code",
   "execution_count": 148,
   "metadata": {},
   "outputs": [
    {
     "name": "stdout",
     "output_type": "stream",
     "text": [
      "[[1 2 3]\n",
      " [3 4 5]]\n"
     ]
    },
    {
     "data": {
      "text/plain": [
       "array([[1, 0],\n",
       "       [0, 4]])"
      ]
     },
     "execution_count": 148,
     "metadata": {},
     "output_type": "execute_result"
    }
   ],
   "source": [
    "np_array = np.array([[1, 2, 3], [3, 4, 5]])\n",
    "print(np_array)\n",
    "np_array.shape  # result (2, 3) (row, column)\n",
    "# Slicing\n",
    "np_array[0]  # result [1, 2, 3]\n",
    "np_array[:, 0]  # result [1, 3]\n",
    "np_array[0, :]  # result [1, 2, 3]\n",
    "\n",
    "np_array = np.array([[1, 2], [3, 4]])\n",
    "\n",
    "# Transpose\n",
    "np_array.T\n",
    "# Matrix Invsere\n",
    "np.linalg.inv(np_array)\n",
    "# Matrix determinant\n",
    "np.linalg.det(np_array)\n",
    "# Diagonal Matrix diag function overloaded\n",
    "np.diag(np_array)\n",
    "#\n",
    "np.diag(np.diag(np_array))"
   ]
  },
  {
   "cell_type": "code",
   "execution_count": 149,
   "metadata": {},
   "outputs": [
    {
     "data": {
      "text/plain": [
       "1"
      ]
     },
     "execution_count": 149,
     "metadata": {},
     "output_type": "execute_result"
    }
   ],
   "source": [
    "# Python List\n",
    "ll = [[1, 2], [3, 4]]\n",
    "ll[0][0]"
   ]
  },
  {
   "cell_type": "code",
   "execution_count": 157,
   "metadata": {},
   "outputs": [
    {
     "name": "stdout",
     "output_type": "stream",
     "text": [
      "[3 4]\n",
      "[[-1 -1]\n",
      " [ 3  4]]\n"
     ]
    }
   ],
   "source": [
    "# Boolean index\n",
    "print(f\"{np_array[np_array > 2]}\")\n",
    "print(f\"{np.where(np_array > 2, np_array, -1)}\")  # Keep N dimension shape and if not greater than 2 return -1\n",
    "#\n",
    "even = np.argwhere(np_array % 2 == 0)\n",
    "np_array[even]\n"
   ]
  },
  {
   "cell_type": "code",
   "execution_count": 121,
   "metadata": {},
   "outputs": [
    {
     "data": {
      "text/plain": [
       "array([1, 3])"
      ]
     },
     "execution_count": 121,
     "metadata": {},
     "output_type": "execute_result"
    }
   ],
   "source": [
    "np_array[0, [0, 2]]"
   ]
  },
  {
   "cell_type": "markdown",
   "metadata": {},
   "source": [
    "## Creating & reshapping Arrays"
   ]
  },
  {
   "cell_type": "code",
   "execution_count": 168,
   "metadata": {},
   "outputs": [
    {
     "name": "stdout",
     "output_type": "stream",
     "text": [
      "[1 2 3 4 5 6]\n",
      "(6,)\n",
      "[[1 2 3]\n",
      " [4 5 6]]\n",
      "(1, 6)\n"
     ]
    }
   ],
   "source": [
    "np_array = np.arange(1, 7)\n",
    "print(np_array)\n",
    "print(np_array.shape)\n",
    "print(np_array.reshape(2, 3))\n",
    "\n",
    "b = np_array[np.newaxis, :]\n",
    "print(b.shape)"
   ]
  },
  {
   "cell_type": "markdown",
   "metadata": {},
   "source": [
    "## Broadcasting"
   ]
  },
  {
   "cell_type": "code",
   "execution_count": null,
   "metadata": {},
   "outputs": [],
   "source": []
  },
  {
   "cell_type": "markdown",
   "metadata": {},
   "source": [
    "## Functions and Axis"
   ]
  },
  {
   "cell_type": "code",
   "execution_count": 185,
   "metadata": {},
   "outputs": [
    {
     "data": {
      "text/plain": [
       "array([ 5, 10])"
      ]
     },
     "execution_count": 185,
     "metadata": {},
     "output_type": "execute_result"
    }
   ],
   "source": [
    "a = np.array([[1, 2, 3, 4, 5],\n",
    "                [6, 7, 8, 9, 10]])\n",
    "\n",
    "# optional parameter axis = {0, 1, none} if 0 for each column, if 1 for each row, if none total\n",
    "a.sum(axis = 0)  \n",
    "a.mean(axis = 0)\n",
    "a.std(axis = 0) \n",
    "np.std(a, axis = 0)\n",
    "np.min(a, axis = 1)\n",
    "np.max(a, axis = 0)"
   ]
  },
  {
   "cell_type": "code",
   "execution_count": 186,
   "metadata": {},
   "outputs": [
    {
     "ename": "IndexError",
     "evalue": "index 3 is out of bounds for axis 0 with size 3",
     "output_type": "error",
     "traceback": [
      "\u001b[0;31m---------------------------------------------------------------------------\u001b[0m",
      "\u001b[0;31mIndexError\u001b[0m                                Traceback (most recent call last)",
      "\u001b[1;32m/Users/prozapple/무현/Git/numpy-practice/numpy-practice.ipynb Cell 26\u001b[0m in \u001b[0;36m<cell line: 3>\u001b[0;34m()\u001b[0m\n\u001b[1;32m      <a href='vscode-notebook-cell:/Users/prozapple/%EB%AC%B4%ED%98%84/Git/numpy-practice/numpy-practice.ipynb#X53sZmlsZQ%3D%3D?line=0'>1</a>\u001b[0m a \u001b[39m=\u001b[39m np\u001b[39m.\u001b[39marray([\u001b[39m1\u001b[39m, \u001b[39m2\u001b[39m, \u001b[39m3\u001b[39m])\n\u001b[1;32m      <a href='vscode-notebook-cell:/Users/prozapple/%EB%AC%B4%ED%98%84/Git/numpy-practice/numpy-practice.ipynb#X53sZmlsZQ%3D%3D?line=1'>2</a>\u001b[0m b \u001b[39m=\u001b[39m a \n\u001b[0;32m----> <a href='vscode-notebook-cell:/Users/prozapple/%EB%AC%B4%ED%98%84/Git/numpy-practice/numpy-practice.ipynb#X53sZmlsZQ%3D%3D?line=2'>3</a>\u001b[0m b[\u001b[39m3\u001b[39m] \u001b[39m=\u001b[39m \u001b[39m2\u001b[39m\n\u001b[1;32m      <a href='vscode-notebook-cell:/Users/prozapple/%EB%AC%B4%ED%98%84/Git/numpy-practice/numpy-practice.ipynb#X53sZmlsZQ%3D%3D?line=3'>4</a>\u001b[0m \u001b[39mprint\u001b[39m(a)\n",
      "\u001b[0;31mIndexError\u001b[0m: index 3 is out of bounds for axis 0 with size 3"
     ]
    }
   ],
   "source": [
    "a = np.array([1, 2, 3])\n",
    "b = a.copy()\n",
    "b[3] = 2\n",
    "print(a)"
   ]
  },
  {
   "cell_type": "code",
   "execution_count": 196,
   "metadata": {},
   "outputs": [
    {
     "name": "stdout",
     "output_type": "stream",
     "text": [
      "[[0. 0. 0.]\n",
      " [0. 0. 0.]]\n",
      "[[1. 1. 1.]\n",
      " [1. 1. 1.]]\n",
      "[[-1 -1 -1]\n",
      " [-1 -1 -1]]\n",
      "[[1. 0. 0.]\n",
      " [0. 1. 0.]\n",
      " [0. 0. 1.]]\n",
      "[1 3 5 7 9]\n",
      "[ 1.    3.25  5.5   7.75 10.  ]\n"
     ]
    }
   ],
   "source": [
    "## Generating Arrays\n",
    "print(np.zeros((2, 3)))\n",
    "print(np.ones((2, 3)))\n",
    "print(np.full((2,3), -1))\n",
    "print(np.eye(3))\n",
    "print(np.arange(1, 10, 2)) \n",
    "print(np.linspace(1, 10, 5))  # Create equally spaced array, last argument number of elements\n"
   ]
  },
  {
   "cell_type": "code",
   "execution_count": 188,
   "metadata": {},
   "outputs": [
    {
     "data": {
      "text/plain": [
       "[1, 2, 2]"
      ]
     },
     "execution_count": 188,
     "metadata": {},
     "output_type": "execute_result"
    }
   ],
   "source": [
    "python_list = [1, 2, 3]\n",
    "python_list[2] = 2\n",
    "python_list"
   ]
  },
  {
   "cell_type": "markdown",
   "metadata": {},
   "source": [
    "## Random"
   ]
  },
  {
   "cell_type": "code",
   "execution_count": 211,
   "metadata": {},
   "outputs": [
    {
     "name": "stdout",
     "output_type": "stream",
     "text": [
      "[[0.17634753 0.56184835]\n",
      " [0.38302497 0.4467518 ]\n",
      " [0.31701715 0.63104003]]\n",
      "[[-1.69488354  2.22412867 -0.18834831]\n",
      " [ 0.9638267  -0.7018579   1.36462679]]\n",
      "[[4 2 7]\n",
      " [5 9 4]\n",
      " [9 4 6]]\n",
      "[2 2 1 1 1 1 1 2 3 3]\n",
      "[0 0 1 1 0 1 1 1 0 0]\n"
     ]
    }
   ],
   "source": [
    "print(np.random.random(size=(3, 2)))\n",
    "print(np.random.randn(2, 3))  # normal/Guassian dimension\n",
    "print(np.random.randint(low=1, high=10, size=(3, 3)))\n",
    "print(np.random.choice(a=[1, 2, 3], size=10))\n",
    "print(np.random.choice(a=3, size=10))"
   ]
  },
  {
   "cell_type": "code",
   "execution_count": 212,
   "metadata": {},
   "outputs": [
    {
     "ename": "LinAlgError",
     "evalue": "1-dimensional array given. Array must be at least two-dimensional",
     "output_type": "error",
     "traceback": [
      "\u001b[0;31m---------------------------------------------------------------------------\u001b[0m",
      "\u001b[0;31mLinAlgError\u001b[0m                               Traceback (most recent call last)",
      "\u001b[1;32m/Users/prozapple/무현/Git/numpy-practice/numpy-practice.ipynb Cell 31\u001b[0m in \u001b[0;36m<cell line: 2>\u001b[0;34m()\u001b[0m\n\u001b[1;32m      <a href='vscode-notebook-cell:/Users/prozapple/%EB%AC%B4%ED%98%84/Git/numpy-practice/numpy-practice.ipynb#X60sZmlsZQ%3D%3D?line=0'>1</a>\u001b[0m matrix \u001b[39m=\u001b[39m np\u001b[39m.\u001b[39marray([[\u001b[39m1\u001b[39m, \u001b[39m2\u001b[39m], [\u001b[39m3\u001b[39m, \u001b[39m4\u001b[39m]])\n\u001b[0;32m----> <a href='vscode-notebook-cell:/Users/prozapple/%EB%AC%B4%ED%98%84/Git/numpy-practice/numpy-practice.ipynb#X60sZmlsZQ%3D%3D?line=1'>2</a>\u001b[0m eigenvalues, eigenvectors \u001b[39m=\u001b[39m np\u001b[39m.\u001b[39;49mlinalg\u001b[39m.\u001b[39;49meig(a)\n\u001b[1;32m      <a href='vscode-notebook-cell:/Users/prozapple/%EB%AC%B4%ED%98%84/Git/numpy-practice/numpy-practice.ipynb#X60sZmlsZQ%3D%3D?line=2'>3</a>\u001b[0m \u001b[39mprint\u001b[39m(eigenvalues)\n\u001b[1;32m      <a href='vscode-notebook-cell:/Users/prozapple/%EB%AC%B4%ED%98%84/Git/numpy-practice/numpy-practice.ipynb#X60sZmlsZQ%3D%3D?line=3'>4</a>\u001b[0m \u001b[39mprint\u001b[39m(eigenvectors)\n",
      "File \u001b[0;32m<__array_function__ internals>:180\u001b[0m, in \u001b[0;36meig\u001b[0;34m(*args, **kwargs)\u001b[0m\n",
      "File \u001b[0;32m~/.pyenv/versions/anaconda3-2021.11/envs/section3/lib/python3.8/site-packages/numpy/linalg/linalg.py:1310\u001b[0m, in \u001b[0;36meig\u001b[0;34m(a)\u001b[0m\n\u001b[1;32m   1184\u001b[0m \u001b[39m\"\"\"\u001b[39;00m\n\u001b[1;32m   1185\u001b[0m \u001b[39mCompute the eigenvalues and right eigenvectors of a square array.\u001b[39;00m\n\u001b[1;32m   1186\u001b[0m \n\u001b[0;32m   (...)\u001b[0m\n\u001b[1;32m   1307\u001b[0m \n\u001b[1;32m   1308\u001b[0m \u001b[39m\"\"\"\u001b[39;00m\n\u001b[1;32m   1309\u001b[0m a, wrap \u001b[39m=\u001b[39m _makearray(a)\n\u001b[0;32m-> 1310\u001b[0m _assert_stacked_2d(a)\n\u001b[1;32m   1311\u001b[0m _assert_stacked_square(a)\n\u001b[1;32m   1312\u001b[0m _assert_finite(a)\n",
      "File \u001b[0;32m~/.pyenv/versions/anaconda3-2021.11/envs/section3/lib/python3.8/site-packages/numpy/linalg/linalg.py:197\u001b[0m, in \u001b[0;36m_assert_stacked_2d\u001b[0;34m(*arrays)\u001b[0m\n\u001b[1;32m    195\u001b[0m \u001b[39mfor\u001b[39;00m a \u001b[39min\u001b[39;00m arrays:\n\u001b[1;32m    196\u001b[0m     \u001b[39mif\u001b[39;00m a\u001b[39m.\u001b[39mndim \u001b[39m<\u001b[39m \u001b[39m2\u001b[39m:\n\u001b[0;32m--> 197\u001b[0m         \u001b[39mraise\u001b[39;00m LinAlgError(\u001b[39m'\u001b[39m\u001b[39m%d\u001b[39;00m\u001b[39m-dimensional array given. Array must be \u001b[39m\u001b[39m'\u001b[39m\n\u001b[1;32m    198\u001b[0m                 \u001b[39m'\u001b[39m\u001b[39mat least two-dimensional\u001b[39m\u001b[39m'\u001b[39m \u001b[39m%\u001b[39m a\u001b[39m.\u001b[39mndim)\n",
      "\u001b[0;31mLinAlgError\u001b[0m: 1-dimensional array given. Array must be at least two-dimensional"
     ]
    }
   ],
   "source": [
    "matrix = np.array([[1, 2], [3, 4]])\n",
    "eigenvalues, eigenvectors = np.linalg.eig(a)\n",
    "print(eigenvalues)\n",
    "print(eigenvectors)\n",
    "# compare value\n",
    "lhand = 0\n",
    "rhand = 0\n",
    "np.allclose(lhand, rhand)"
   ]
  },
  {
   "cell_type": "code",
   "execution_count": null,
   "metadata": {},
   "outputs": [],
   "source": [
    "np.linalg.inv(A).dot(b)\n",
    "\n",
    "# Method 2 Preferred\n",
    "np.linalg.solve(A, b)\n"
   ]
  },
  {
   "cell_type": "markdown",
   "metadata": {},
   "source": [
    "Source:\n",
    "\n",
    "https://www.youtube.com/watch?v=9JUAPgtkKpI&ab_channel=PythonEngineer"
   ]
  }
 ],
 "metadata": {
  "kernelspec": {
   "display_name": "Python 3.8.13 ('section3')",
   "language": "python",
   "name": "python3"
  },
  "language_info": {
   "codemirror_mode": {
    "name": "ipython",
    "version": 3
   },
   "file_extension": ".py",
   "mimetype": "text/x-python",
   "name": "python",
   "nbconvert_exporter": "python",
   "pygments_lexer": "ipython3",
   "version": "3.8.13"
  },
  "orig_nbformat": 4,
  "vscode": {
   "interpreter": {
    "hash": "7615249227931b8024722040d4ce6cef160d54187113688c7637990d7d49f77e"
   }
  }
 },
 "nbformat": 4,
 "nbformat_minor": 2
}
